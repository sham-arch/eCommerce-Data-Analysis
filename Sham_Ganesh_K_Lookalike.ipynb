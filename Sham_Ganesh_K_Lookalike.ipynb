{
 "cells": [
  {
   "cell_type": "code",
   "execution_count": 1,
   "id": "e06c05a5-7671-4d06-9e49-526f35de1a26",
   "metadata": {},
   "outputs": [],
   "source": [
    "import pandas as pd\n",
    "from sklearn.preprocessing import StandardScaler\n",
    "from sklearn.metrics.pairwise import cosine_similarity\n",
    "\n",
    "customers_df = pd.read_csv(\"Customers.csv\")\n",
    "transactions_df = pd.read_csv(\"Transactions.csv\")\n",
    "products_df = pd.read_csv(\"Products.csv\")"
   ]
  },
  {
   "cell_type": "code",
   "execution_count": 23,
   "id": "2d0d4e79-498e-420a-8802-38a7f56f7ade",
   "metadata": {},
   "outputs": [],
   "source": [
    "merged_df = transactions_df.merge(customers_df, on=\"CustomerID\").merge(products_df, on=\"ProductID\")"
   ]
  },
  {
   "cell_type": "code",
   "execution_count": 24,
   "id": "ef75b284-736e-4344-afcf-f37cbe37d680",
   "metadata": {},
   "outputs": [],
   "source": [
    "customer_features = merged_df.groupby('CustomerID').agg({\n",
    "    'TotalValue': 'sum',         # Total spending\n",
    "    'TransactionID': 'count',    # Transaction count\n",
    "    'Quantity': 'sum',           # Total quantity purchased\n",
    "    'Price_y': 'mean'            # Average product price (using Price_y from merged_df)\n",
    "}).rename(columns={\n",
    "    'TotalValue': 'TotalSpending',\n",
    "    'TransactionID': 'TransactionCount',\n",
    "    'Quantity': 'TotalQuantity',\n",
    "    'Price_y': 'AvgPrice'\n",
    "}).reset_index()"
   ]
  },
  {
   "cell_type": "code",
   "execution_count": 25,
   "id": "6c4da289-2e4f-44c8-b5c2-56e0c2c9acea",
   "metadata": {},
   "outputs": [],
   "source": [
    "# Merge with customer demographic data\n",
    "customer_features = customer_features.merge(customers_df, on=\"CustomerID\")"
   ]
  },
  {
   "cell_type": "code",
   "execution_count": 26,
   "id": "544c035b-d110-42f9-b586-f2a597a2e3b6",
   "metadata": {},
   "outputs": [],
   "source": [
    "# Handle missing values\n",
    "customer_features.fillna(0, inplace=True)"
   ]
  },
  {
   "cell_type": "code",
   "execution_count": 27,
   "id": "43410b21-4282-499b-9c9d-4c27d702025c",
   "metadata": {},
   "outputs": [],
   "source": [
    "# Encode Categorical Variables\n",
    "customer_features = pd.get_dummies(customer_features, columns=[\"Region\"], drop_first=True)"
   ]
  },
  {
   "cell_type": "code",
   "execution_count": 28,
   "id": "95d4357a-d455-48b3-8b41-26c588983392",
   "metadata": {},
   "outputs": [],
   "source": [
    "# Normalize Numeric Features\n",
    "scaler = StandardScaler()\n",
    "numeric_cols = customer_features.select_dtypes(include=['number']).columns\n",
    "customer_features[numeric_cols] = scaler.fit_transform(customer_features[numeric_cols])"
   ]
  },
  {
   "cell_type": "code",
   "execution_count": 29,
   "id": "fdd9620d-5b65-4165-ae5b-7a0557405251",
   "metadata": {},
   "outputs": [],
   "source": [
    "# Calculate Cosine Similarity\n",
    "feature_matrix = customer_features.select_dtypes(include=['number'])"
   ]
  },
  {
   "cell_type": "code",
   "execution_count": 30,
   "id": "1c30f266-ed14-4c90-b3fd-0fb991af3818",
   "metadata": {},
   "outputs": [],
   "source": [
    "# Compute the cosine similarity\n",
    "similarity_matrix = cosine_similarity(feature_matrix)"
   ]
  },
  {
   "cell_type": "code",
   "execution_count": 31,
   "id": "6ef47586-ba8b-4fbc-a159-886b3997a92f",
   "metadata": {},
   "outputs": [],
   "source": [
    "# Recommendations for the first 20 customers\n",
    "lookalike_results = {}\n",
    "for i, cust_id in enumerate(customer_features['CustomerID'][:20]):\n",
    "    # Get similarity scores for the current customer\n",
    "    scores = list(enumerate(similarity_matrix[i]))\n",
    "    # Sort by similarity score, exclude self (score=1.0), and take top 3\n",
    "    top_similar = sorted(scores, key=lambda x: x[1], reverse=True)[1:4]\n",
    "    # Format recommendations\n",
    "    lookalike_results[cust_id] = [\n",
    "        {\"cust_id\": customer_features['CustomerID'][idx], \"score\": round(score, 2)}\n",
    "        for idx, score in top_similar\n",
    "    ]"
   ]
  },
  {
   "cell_type": "code",
   "execution_count": 32,
   "id": "b3ab4119-7dcb-4601-a863-cc3b655bdb57",
   "metadata": {},
   "outputs": [],
   "source": [
    "lookalike_df = pd.DataFrame([\n",
    "    {\"cust_id\": cust_id, \"lookalikes\": lookalikes}\n",
    "    for cust_id, lookalikes in lookalike_results.items()\n",
    "])\n"
   ]
  },
  {
   "cell_type": "code",
   "execution_count": 34,
   "id": "5490e335-94e4-473c-982d-c1962021553e",
   "metadata": {},
   "outputs": [],
   "source": [
    "lookalike_df.to_csv(\"Lookalike.csv\", index=False)"
   ]
  },
  {
   "cell_type": "code",
   "execution_count": 36,
   "id": "7ed2b295-5fb0-47d4-a52e-c2f9d98420c3",
   "metadata": {},
   "outputs": [
    {
     "name": "stdout",
     "output_type": "stream",
     "text": [
      "Lookalike Results for First 20 Customers:\n",
      "Lookalike Model Complete. Recommendations saved to Lookalike.csv.\n"
     ]
    }
   ],
   "source": [
    "print(\"Lookalike Results for First 20 Customers:\")\n",
    "print(\"Lookalike Model Complete. Recommendations saved to Lookalike.csv.\")"
   ]
  },
  {
   "cell_type": "code",
   "execution_count": null,
   "id": "e987c57d-c21d-4de9-adcb-fa5452ea87b3",
   "metadata": {},
   "outputs": [],
   "source": []
  }
 ],
 "metadata": {
  "kernelspec": {
   "display_name": "Python 3 (ipykernel)",
   "language": "python",
   "name": "python3"
  },
  "language_info": {
   "codemirror_mode": {
    "name": "ipython",
    "version": 3
   },
   "file_extension": ".py",
   "mimetype": "text/x-python",
   "name": "python",
   "nbconvert_exporter": "python",
   "pygments_lexer": "ipython3",
   "version": "3.11.7"
  }
 },
 "nbformat": 4,
 "nbformat_minor": 5
}
